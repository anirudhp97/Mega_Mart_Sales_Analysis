{
 "cells": [
  {
   "cell_type": "markdown",
   "metadata": {},
   "source": [
    "# Mega-Mart Sales Analysis\n",
    "\n",
    "This notebook will contain the preliminary analysis of the Mega-Mart dataset. We are going to understand what kind of impact each feature is going to have on the Sales.\n",
    "\n",
    "Features in the dataset are:\n",
    "\n",
    "(1) Item_ID - ID of each item based on its category (Food, Non-Consumables, Drinks)\n",
    "\n",
    "(2) Item_W - Weight of each item\n",
    "\n",
    "(3) Item_Type - Sub-Category type of the item\n",
    "\n",
    "(4) Item_MRP - Price of each item\n",
    "\n",
    "(5) Outlet_ID - Unique ID assigned to each outlet\n",
    "\n",
    "(6) Outlet_Year - Sales of each outlet in every year\n",
    "\n",
    "(6) Outlet_Size - Type of size of the outlet (Small, Medium and Large)\n",
    "\n",
    "(7) Outlet_Location_Type - Location at which the outlets are present (Tier 1, Tier 2 and Tier 3)\n",
    "\n",
    "(8) Sales - Sales of each item at each outlet"
   ]
  },
  {
   "cell_type": "markdown",
   "metadata": {},
   "source": [
    "## Importing the libraries"
   ]
  },
  {
   "cell_type": "code",
   "execution_count": 1,
   "metadata": {},
   "outputs": [],
   "source": [
    "import pandas as pd\n",
    "import numpy as np\n",
    "import matplotlib.pyplot as plt\n",
    "import seaborn as sns"
   ]
  },
  {
   "cell_type": "markdown",
   "metadata": {},
   "source": [
    "## Importing the dataset"
   ]
  },
  {
   "cell_type": "code",
   "execution_count": 2,
   "metadata": {},
   "outputs": [
    {
     "data": {
      "text/html": [
       "<div>\n",
       "<style scoped>\n",
       "    .dataframe tbody tr th:only-of-type {\n",
       "        vertical-align: middle;\n",
       "    }\n",
       "\n",
       "    .dataframe tbody tr th {\n",
       "        vertical-align: top;\n",
       "    }\n",
       "\n",
       "    .dataframe thead th {\n",
       "        text-align: right;\n",
       "    }\n",
       "</style>\n",
       "<table border=\"1\" class=\"dataframe\">\n",
       "  <thead>\n",
       "    <tr style=\"text-align: right;\">\n",
       "      <th></th>\n",
       "      <th>Item_ID</th>\n",
       "      <th>Item_W</th>\n",
       "      <th>Item_Type</th>\n",
       "      <th>Item_MRP</th>\n",
       "      <th>Outlet_ID</th>\n",
       "      <th>Outlet_Year</th>\n",
       "      <th>Outlet_Size</th>\n",
       "      <th>Outlet_Location_Type</th>\n",
       "      <th>Sales</th>\n",
       "    </tr>\n",
       "  </thead>\n",
       "  <tbody>\n",
       "    <tr>\n",
       "      <th>0</th>\n",
       "      <td>FDU32</td>\n",
       "      <td>21.027499</td>\n",
       "      <td>Baking Goods</td>\n",
       "      <td>197.352319</td>\n",
       "      <td>OUT046</td>\n",
       "      <td>2004</td>\n",
       "      <td>Small</td>\n",
       "      <td>Tier 2</td>\n",
       "      <td>2689.457781</td>\n",
       "    </tr>\n",
       "    <tr>\n",
       "      <th>1</th>\n",
       "      <td>NCT54</td>\n",
       "      <td>21.102371</td>\n",
       "      <td>Meat</td>\n",
       "      <td>148.250214</td>\n",
       "      <td>OUT035</td>\n",
       "      <td>1987</td>\n",
       "      <td>Small</td>\n",
       "      <td>Tier 1</td>\n",
       "      <td>3437.350375</td>\n",
       "    </tr>\n",
       "    <tr>\n",
       "      <th>2</th>\n",
       "      <td>FDW08</td>\n",
       "      <td>20.882263</td>\n",
       "      <td>Hard Drinks</td>\n",
       "      <td>205.465010</td>\n",
       "      <td>OUT035</td>\n",
       "      <td>1999</td>\n",
       "      <td>Small</td>\n",
       "      <td>Tier 3</td>\n",
       "      <td>3129.967268</td>\n",
       "    </tr>\n",
       "    <tr>\n",
       "      <th>3</th>\n",
       "      <td>FDJ22</td>\n",
       "      <td>21.050435</td>\n",
       "      <td>Starchy Foods</td>\n",
       "      <td>253.417583</td>\n",
       "      <td>OUT046</td>\n",
       "      <td>1996</td>\n",
       "      <td>Small</td>\n",
       "      <td>Tier 1</td>\n",
       "      <td>1306.514376</td>\n",
       "    </tr>\n",
       "    <tr>\n",
       "      <th>4</th>\n",
       "      <td>FDF47</td>\n",
       "      <td>21.247876</td>\n",
       "      <td>Baking Goods</td>\n",
       "      <td>240.871039</td>\n",
       "      <td>OUT035</td>\n",
       "      <td>1988</td>\n",
       "      <td>Small</td>\n",
       "      <td>Tier 3</td>\n",
       "      <td>1739.769829</td>\n",
       "    </tr>\n",
       "    <tr>\n",
       "      <th>...</th>\n",
       "      <td>...</td>\n",
       "      <td>...</td>\n",
       "      <td>...</td>\n",
       "      <td>...</td>\n",
       "      <td>...</td>\n",
       "      <td>...</td>\n",
       "      <td>...</td>\n",
       "      <td>...</td>\n",
       "      <td>...</td>\n",
       "    </tr>\n",
       "    <tr>\n",
       "      <th>87859</th>\n",
       "      <td>FDG24</td>\n",
       "      <td>9.994412</td>\n",
       "      <td>Breakfast</td>\n",
       "      <td>147.389893</td>\n",
       "      <td>OUT035</td>\n",
       "      <td>1987</td>\n",
       "      <td>Medium</td>\n",
       "      <td>Tier 3</td>\n",
       "      <td>4975.646052</td>\n",
       "    </tr>\n",
       "    <tr>\n",
       "      <th>87860</th>\n",
       "      <td>FDA32</td>\n",
       "      <td>11.259252</td>\n",
       "      <td>Canned</td>\n",
       "      <td>127.965666</td>\n",
       "      <td>OUT049</td>\n",
       "      <td>1987</td>\n",
       "      <td>Medium</td>\n",
       "      <td>Tier 2</td>\n",
       "      <td>2252.492755</td>\n",
       "    </tr>\n",
       "    <tr>\n",
       "      <th>87861</th>\n",
       "      <td>FDM04</td>\n",
       "      <td>11.385812</td>\n",
       "      <td>Household</td>\n",
       "      <td>119.028901</td>\n",
       "      <td>OUT018</td>\n",
       "      <td>1997</td>\n",
       "      <td>Medium</td>\n",
       "      <td>Tier 1</td>\n",
       "      <td>2716.058050</td>\n",
       "    </tr>\n",
       "    <tr>\n",
       "      <th>87862</th>\n",
       "      <td>NCS18</td>\n",
       "      <td>18.018028</td>\n",
       "      <td>Household</td>\n",
       "      <td>223.416318</td>\n",
       "      <td>OUT018</td>\n",
       "      <td>1988</td>\n",
       "      <td>Medium</td>\n",
       "      <td>Tier 3</td>\n",
       "      <td>991.857233</td>\n",
       "    </tr>\n",
       "    <tr>\n",
       "      <th>87863</th>\n",
       "      <td>FDQ11</td>\n",
       "      <td>17.130290</td>\n",
       "      <td>Snack Foods</td>\n",
       "      <td>143.232048</td>\n",
       "      <td>OUT013</td>\n",
       "      <td>1997</td>\n",
       "      <td>Medium</td>\n",
       "      <td>Tier 3</td>\n",
       "      <td>4260.617470</td>\n",
       "    </tr>\n",
       "  </tbody>\n",
       "</table>\n",
       "<p>87864 rows × 9 columns</p>\n",
       "</div>"
      ],
      "text/plain": [
       "      Item_ID     Item_W      Item_Type    Item_MRP Outlet_ID  Outlet_Year  \\\n",
       "0       FDU32  21.027499   Baking Goods  197.352319    OUT046         2004   \n",
       "1       NCT54  21.102371           Meat  148.250214    OUT035         1987   \n",
       "2       FDW08  20.882263    Hard Drinks  205.465010    OUT035         1999   \n",
       "3       FDJ22  21.050435  Starchy Foods  253.417583    OUT046         1996   \n",
       "4       FDF47  21.247876   Baking Goods  240.871039    OUT035         1988   \n",
       "...       ...        ...            ...         ...       ...          ...   \n",
       "87859   FDG24   9.994412      Breakfast  147.389893    OUT035         1987   \n",
       "87860   FDA32  11.259252         Canned  127.965666    OUT049         1987   \n",
       "87861   FDM04  11.385812      Household  119.028901    OUT018         1997   \n",
       "87862   NCS18  18.018028      Household  223.416318    OUT018         1988   \n",
       "87863   FDQ11  17.130290    Snack Foods  143.232048    OUT013         1997   \n",
       "\n",
       "      Outlet_Size Outlet_Location_Type        Sales  \n",
       "0           Small               Tier 2  2689.457781  \n",
       "1           Small               Tier 1  3437.350375  \n",
       "2           Small               Tier 3  3129.967268  \n",
       "3           Small               Tier 1  1306.514376  \n",
       "4           Small               Tier 3  1739.769829  \n",
       "...           ...                  ...          ...  \n",
       "87859      Medium               Tier 3  4975.646052  \n",
       "87860      Medium               Tier 2  2252.492755  \n",
       "87861      Medium               Tier 1  2716.058050  \n",
       "87862      Medium               Tier 3   991.857233  \n",
       "87863      Medium               Tier 3  4260.617470  \n",
       "\n",
       "[87864 rows x 9 columns]"
      ]
     },
     "execution_count": 2,
     "metadata": {},
     "output_type": "execute_result"
    }
   ],
   "source": [
    "df = pd.read_csv(\"train.csv\")\n",
    "df"
   ]
  },
  {
   "cell_type": "markdown",
   "metadata": {},
   "source": [
    "## Analyzing the dataset"
   ]
  },
  {
   "cell_type": "markdown",
   "metadata": {},
   "source": [
    "To understand the basic statistical characteristics of the dataset we use describe function from the Pandas library.\n",
    "\n",
    "In the output of the describe function, in the Sales column we can see that we have negative values. Since negative sales is not possible we need to filter out those rows from the dataset which consists of these values before going into the further analysis."
   ]
  },
  {
   "cell_type": "code",
   "execution_count": 3,
   "metadata": {},
   "outputs": [
    {
     "data": {
      "text/html": [
       "<div>\n",
       "<style scoped>\n",
       "    .dataframe tbody tr th:only-of-type {\n",
       "        vertical-align: middle;\n",
       "    }\n",
       "\n",
       "    .dataframe tbody tr th {\n",
       "        vertical-align: top;\n",
       "    }\n",
       "\n",
       "    .dataframe thead th {\n",
       "        text-align: right;\n",
       "    }\n",
       "</style>\n",
       "<table border=\"1\" class=\"dataframe\">\n",
       "  <thead>\n",
       "    <tr style=\"text-align: right;\">\n",
       "      <th></th>\n",
       "      <th>Item_W</th>\n",
       "      <th>Item_MRP</th>\n",
       "      <th>Outlet_Year</th>\n",
       "      <th>Sales</th>\n",
       "    </tr>\n",
       "  </thead>\n",
       "  <tbody>\n",
       "    <tr>\n",
       "      <th>count</th>\n",
       "      <td>87864.000000</td>\n",
       "      <td>87864.000000</td>\n",
       "      <td>87864.00000</td>\n",
       "      <td>87864.000000</td>\n",
       "    </tr>\n",
       "    <tr>\n",
       "      <th>mean</th>\n",
       "      <td>15.591469</td>\n",
       "      <td>151.242943</td>\n",
       "      <td>1999.87063</td>\n",
       "      <td>1911.842120</td>\n",
       "    </tr>\n",
       "    <tr>\n",
       "      <th>std</th>\n",
       "      <td>4.364429</td>\n",
       "      <td>59.536366</td>\n",
       "      <td>6.63429</td>\n",
       "      <td>1291.386004</td>\n",
       "    </tr>\n",
       "    <tr>\n",
       "      <th>min</th>\n",
       "      <td>7.992700</td>\n",
       "      <td>32.910015</td>\n",
       "      <td>1987.00000</td>\n",
       "      <td>-1229.360345</td>\n",
       "    </tr>\n",
       "    <tr>\n",
       "      <th>25%</th>\n",
       "      <td>10.968658</td>\n",
       "      <td>112.423337</td>\n",
       "      <td>1997.00000</td>\n",
       "      <td>959.249675</td>\n",
       "    </tr>\n",
       "    <tr>\n",
       "      <th>50%</th>\n",
       "      <td>15.831170</td>\n",
       "      <td>145.581473</td>\n",
       "      <td>1999.00000</td>\n",
       "      <td>1606.307877</td>\n",
       "    </tr>\n",
       "    <tr>\n",
       "      <th>75%</th>\n",
       "      <td>19.969936</td>\n",
       "      <td>197.110367</td>\n",
       "      <td>2004.00000</td>\n",
       "      <td>2608.057736</td>\n",
       "    </tr>\n",
       "    <tr>\n",
       "      <th>max</th>\n",
       "      <td>21.250000</td>\n",
       "      <td>265.214271</td>\n",
       "      <td>2009.00000</td>\n",
       "      <td>10309.283310</td>\n",
       "    </tr>\n",
       "  </tbody>\n",
       "</table>\n",
       "</div>"
      ],
      "text/plain": [
       "             Item_W      Item_MRP  Outlet_Year         Sales\n",
       "count  87864.000000  87864.000000  87864.00000  87864.000000\n",
       "mean      15.591469    151.242943   1999.87063   1911.842120\n",
       "std        4.364429     59.536366      6.63429   1291.386004\n",
       "min        7.992700     32.910015   1987.00000  -1229.360345\n",
       "25%       10.968658    112.423337   1997.00000    959.249675\n",
       "50%       15.831170    145.581473   1999.00000   1606.307877\n",
       "75%       19.969936    197.110367   2004.00000   2608.057736\n",
       "max       21.250000    265.214271   2009.00000  10309.283310"
      ]
     },
     "execution_count": 3,
     "metadata": {},
     "output_type": "execute_result"
    }
   ],
   "source": [
    "df.describe()"
   ]
  },
  {
   "cell_type": "markdown",
   "metadata": {},
   "source": [
    "## Checking if the dataset has any null values\n",
    "\n",
    "In this we can see that there are no null values in the dataset, so we can now proceed to filter the rows of the dataset with negative values."
   ]
  },
  {
   "cell_type": "code",
   "execution_count": 4,
   "metadata": {},
   "outputs": [
    {
     "data": {
      "text/plain": [
       "Item_ID                 0\n",
       "Item_W                  0\n",
       "Item_Type               0\n",
       "Item_MRP                0\n",
       "Outlet_ID               0\n",
       "Outlet_Year             0\n",
       "Outlet_Size             0\n",
       "Outlet_Location_Type    0\n",
       "Sales                   0\n",
       "dtype: int64"
      ]
     },
     "execution_count": 4,
     "metadata": {},
     "output_type": "execute_result"
    }
   ],
   "source": [
    "df.isna().sum()"
   ]
  },
  {
   "cell_type": "code",
   "execution_count": 5,
   "metadata": {},
   "outputs": [
    {
     "data": {
      "text/html": [
       "<div>\n",
       "<style scoped>\n",
       "    .dataframe tbody tr th:only-of-type {\n",
       "        vertical-align: middle;\n",
       "    }\n",
       "\n",
       "    .dataframe tbody tr th {\n",
       "        vertical-align: top;\n",
       "    }\n",
       "\n",
       "    .dataframe thead th {\n",
       "        text-align: right;\n",
       "    }\n",
       "</style>\n",
       "<table border=\"1\" class=\"dataframe\">\n",
       "  <thead>\n",
       "    <tr style=\"text-align: right;\">\n",
       "      <th></th>\n",
       "      <th>Item_ID</th>\n",
       "      <th>Item_W</th>\n",
       "      <th>Item_Type</th>\n",
       "      <th>Item_MRP</th>\n",
       "      <th>Outlet_ID</th>\n",
       "      <th>Outlet_Year</th>\n",
       "      <th>Outlet_Size</th>\n",
       "      <th>Outlet_Location_Type</th>\n",
       "      <th>Sales</th>\n",
       "    </tr>\n",
       "  </thead>\n",
       "  <tbody>\n",
       "    <tr>\n",
       "      <th>0</th>\n",
       "      <td>FDU32</td>\n",
       "      <td>21.027499</td>\n",
       "      <td>Baking Goods</td>\n",
       "      <td>197.352319</td>\n",
       "      <td>OUT046</td>\n",
       "      <td>2004</td>\n",
       "      <td>Small</td>\n",
       "      <td>Tier 2</td>\n",
       "      <td>2689.457781</td>\n",
       "    </tr>\n",
       "    <tr>\n",
       "      <th>1</th>\n",
       "      <td>NCT54</td>\n",
       "      <td>21.102371</td>\n",
       "      <td>Meat</td>\n",
       "      <td>148.250214</td>\n",
       "      <td>OUT035</td>\n",
       "      <td>1987</td>\n",
       "      <td>Small</td>\n",
       "      <td>Tier 1</td>\n",
       "      <td>3437.350375</td>\n",
       "    </tr>\n",
       "    <tr>\n",
       "      <th>2</th>\n",
       "      <td>FDW08</td>\n",
       "      <td>20.882263</td>\n",
       "      <td>Hard Drinks</td>\n",
       "      <td>205.465010</td>\n",
       "      <td>OUT035</td>\n",
       "      <td>1999</td>\n",
       "      <td>Small</td>\n",
       "      <td>Tier 3</td>\n",
       "      <td>3129.967268</td>\n",
       "    </tr>\n",
       "    <tr>\n",
       "      <th>3</th>\n",
       "      <td>FDJ22</td>\n",
       "      <td>21.050435</td>\n",
       "      <td>Starchy Foods</td>\n",
       "      <td>253.417583</td>\n",
       "      <td>OUT046</td>\n",
       "      <td>1996</td>\n",
       "      <td>Small</td>\n",
       "      <td>Tier 1</td>\n",
       "      <td>1306.514376</td>\n",
       "    </tr>\n",
       "    <tr>\n",
       "      <th>4</th>\n",
       "      <td>FDF47</td>\n",
       "      <td>21.247876</td>\n",
       "      <td>Baking Goods</td>\n",
       "      <td>240.871039</td>\n",
       "      <td>OUT035</td>\n",
       "      <td>1988</td>\n",
       "      <td>Small</td>\n",
       "      <td>Tier 3</td>\n",
       "      <td>1739.769829</td>\n",
       "    </tr>\n",
       "    <tr>\n",
       "      <th>...</th>\n",
       "      <td>...</td>\n",
       "      <td>...</td>\n",
       "      <td>...</td>\n",
       "      <td>...</td>\n",
       "      <td>...</td>\n",
       "      <td>...</td>\n",
       "      <td>...</td>\n",
       "      <td>...</td>\n",
       "      <td>...</td>\n",
       "    </tr>\n",
       "    <tr>\n",
       "      <th>87859</th>\n",
       "      <td>FDG24</td>\n",
       "      <td>9.994412</td>\n",
       "      <td>Breakfast</td>\n",
       "      <td>147.389893</td>\n",
       "      <td>OUT035</td>\n",
       "      <td>1987</td>\n",
       "      <td>Medium</td>\n",
       "      <td>Tier 3</td>\n",
       "      <td>4975.646052</td>\n",
       "    </tr>\n",
       "    <tr>\n",
       "      <th>87860</th>\n",
       "      <td>FDA32</td>\n",
       "      <td>11.259252</td>\n",
       "      <td>Canned</td>\n",
       "      <td>127.965666</td>\n",
       "      <td>OUT049</td>\n",
       "      <td>1987</td>\n",
       "      <td>Medium</td>\n",
       "      <td>Tier 2</td>\n",
       "      <td>2252.492755</td>\n",
       "    </tr>\n",
       "    <tr>\n",
       "      <th>87861</th>\n",
       "      <td>FDM04</td>\n",
       "      <td>11.385812</td>\n",
       "      <td>Household</td>\n",
       "      <td>119.028901</td>\n",
       "      <td>OUT018</td>\n",
       "      <td>1997</td>\n",
       "      <td>Medium</td>\n",
       "      <td>Tier 1</td>\n",
       "      <td>2716.058050</td>\n",
       "    </tr>\n",
       "    <tr>\n",
       "      <th>87862</th>\n",
       "      <td>NCS18</td>\n",
       "      <td>18.018028</td>\n",
       "      <td>Household</td>\n",
       "      <td>223.416318</td>\n",
       "      <td>OUT018</td>\n",
       "      <td>1988</td>\n",
       "      <td>Medium</td>\n",
       "      <td>Tier 3</td>\n",
       "      <td>991.857233</td>\n",
       "    </tr>\n",
       "    <tr>\n",
       "      <th>87863</th>\n",
       "      <td>FDQ11</td>\n",
       "      <td>17.130290</td>\n",
       "      <td>Snack Foods</td>\n",
       "      <td>143.232048</td>\n",
       "      <td>OUT013</td>\n",
       "      <td>1997</td>\n",
       "      <td>Medium</td>\n",
       "      <td>Tier 3</td>\n",
       "      <td>4260.617470</td>\n",
       "    </tr>\n",
       "  </tbody>\n",
       "</table>\n",
       "<p>87467 rows × 9 columns</p>\n",
       "</div>"
      ],
      "text/plain": [
       "      Item_ID     Item_W      Item_Type    Item_MRP Outlet_ID  Outlet_Year  \\\n",
       "0       FDU32  21.027499   Baking Goods  197.352319    OUT046         2004   \n",
       "1       NCT54  21.102371           Meat  148.250214    OUT035         1987   \n",
       "2       FDW08  20.882263    Hard Drinks  205.465010    OUT035         1999   \n",
       "3       FDJ22  21.050435  Starchy Foods  253.417583    OUT046         1996   \n",
       "4       FDF47  21.247876   Baking Goods  240.871039    OUT035         1988   \n",
       "...       ...        ...            ...         ...       ...          ...   \n",
       "87859   FDG24   9.994412      Breakfast  147.389893    OUT035         1987   \n",
       "87860   FDA32  11.259252         Canned  127.965666    OUT049         1987   \n",
       "87861   FDM04  11.385812      Household  119.028901    OUT018         1997   \n",
       "87862   NCS18  18.018028      Household  223.416318    OUT018         1988   \n",
       "87863   FDQ11  17.130290    Snack Foods  143.232048    OUT013         1997   \n",
       "\n",
       "      Outlet_Size Outlet_Location_Type        Sales  \n",
       "0           Small               Tier 2  2689.457781  \n",
       "1           Small               Tier 1  3437.350375  \n",
       "2           Small               Tier 3  3129.967268  \n",
       "3           Small               Tier 1  1306.514376  \n",
       "4           Small               Tier 3  1739.769829  \n",
       "...           ...                  ...          ...  \n",
       "87859      Medium               Tier 3  4975.646052  \n",
       "87860      Medium               Tier 2  2252.492755  \n",
       "87861      Medium               Tier 1  2716.058050  \n",
       "87862      Medium               Tier 3   991.857233  \n",
       "87863      Medium               Tier 3  4260.617470  \n",
       "\n",
       "[87467 rows x 9 columns]"
      ]
     },
     "execution_count": 5,
     "metadata": {},
     "output_type": "execute_result"
    }
   ],
   "source": [
    "df = df[(df['Sales']>0)]\n",
    "df"
   ]
  },
  {
   "cell_type": "markdown",
   "metadata": {},
   "source": [
    "## Outlier Detection"
   ]
  },
  {
   "cell_type": "markdown",
   "metadata": {},
   "source": [
    "### What is an outlier?\n",
    "An outlier is a point or a set of points that are distant from other points in the dataset. \n",
    "\n",
    "### Causes of outliers\n",
    "It can be caused due to various reasons such as error in capturing the data, errors while manually entering the data, errors in processing or manipulating the data etc.\n",
    "\n",
    "### Effects of outliers\n",
    "Outliers can skew the overall trend in the data. Outliers in the training data can skew the model, thus affecting its accuracy.\n",
    "\n",
    "### Methods to detect outliers\n",
    "There are many methods to detect the outliers. Some of the commonly used techniques are:\n",
    "\n",
    "(1) Z-Score\n",
    "\n",
    "(2) Box-Plot\n",
    "\n",
    "(3) Inter-Quartile Range\n",
    "\n",
    "(4) Isolation Forests"
   ]
  },
  {
   "cell_type": "markdown",
   "metadata": {},
   "source": [
    "### Box Plot\n",
    "\n",
    "In this we can see that there is only one record that is distant away from the rest of the data points, thus it can be considered as an outlier. Before we decide how to treat this outlier, it becomes important to understand which record is involved in this huge sale."
   ]
  },
  {
   "cell_type": "code",
   "execution_count": 6,
   "metadata": {},
   "outputs": [
    {
     "data": {
      "text/plain": [
       "Text(0.5, 1.0, 'Boxplot of Sales of the products ')"
      ]
     },
     "execution_count": 6,
     "metadata": {},
     "output_type": "execute_result"
    },
    {
     "data": {
      "image/png": "[encoded data removed]",
      "text/plain": [
       "<Figure size 432x288 with 1 Axes>"
      ]
     },
     "metadata": {
      "needs_background": "light"
     },
     "output_type": "display_data"
    }
   ],
   "source": [
    "sns.boxplot(data=df,x=df[\"Sales\"])\n",
    "plt.title(\"Boxplot of Sales of the products \")"
   ]
  },
  {
   "cell_type": "markdown",
   "metadata": {},
   "source": [
    "Here we can see that the \"soft drink\" category has made the highest amount of sales. This is interesting, and there could be a number of reasons for this huge sale. Or it can be an entry error. It might skew our analysis a little bit, thus to keep all the data points in the same range we are going to delete this record."
   ]
  },
  {
   "cell_type": "code",
   "execution_count": 7,
   "metadata": {},
   "outputs": [
    {
     "data": {
      "text/html": [
       "<div>\n",
       "<style scoped>\n",
       "    .dataframe tbody tr th:only-of-type {\n",
       "        vertical-align: middle;\n",
       "    }\n",
       "\n",
       "    .dataframe tbody tr th {\n",
       "        vertical-align: top;\n",
       "    }\n",
       "\n",
       "    .dataframe thead th {\n",
       "        text-align: right;\n",
       "    }\n",
       "</style>\n",
       "<table border=\"1\" class=\"dataframe\">\n",
       "  <thead>\n",
       "    <tr style=\"text-align: right;\">\n",
       "      <th></th>\n",
       "      <th>Item_ID</th>\n",
       "      <th>Item_W</th>\n",
       "      <th>Item_Type</th>\n",
       "      <th>Item_MRP</th>\n",
       "      <th>Outlet_ID</th>\n",
       "      <th>Outlet_Year</th>\n",
       "      <th>Outlet_Size</th>\n",
       "      <th>Outlet_Location_Type</th>\n",
       "      <th>Sales</th>\n",
       "    </tr>\n",
       "  </thead>\n",
       "  <tbody>\n",
       "    <tr>\n",
       "      <th>65833</th>\n",
       "      <td>FDF05</td>\n",
       "      <td>14.288374</td>\n",
       "      <td>Soft Drinks</td>\n",
       "      <td>249.247322</td>\n",
       "      <td>OUT018</td>\n",
       "      <td>1998</td>\n",
       "      <td>Medium</td>\n",
       "      <td>Tier 3</td>\n",
       "      <td>10309.28331</td>\n",
       "    </tr>\n",
       "  </tbody>\n",
       "</table>\n",
       "</div>"
      ],
      "text/plain": [
       "      Item_ID     Item_W    Item_Type    Item_MRP Outlet_ID  Outlet_Year  \\\n",
       "65833   FDF05  14.288374  Soft Drinks  249.247322    OUT018         1998   \n",
       "\n",
       "      Outlet_Size Outlet_Location_Type        Sales  \n",
       "65833      Medium               Tier 3  10309.28331  "
      ]
     },
     "execution_count": 7,
     "metadata": {},
     "output_type": "execute_result"
    }
   ],
   "source": [
    "rslt_df = df[df['Sales'] > 10000]\n",
    "rslt_df"
   ]
  },
  {
   "cell_type": "code",
   "execution_count": 8,
   "metadata": {},
   "outputs": [
    {
     "name": "stdout",
     "output_type": "stream",
     "text": [
      "      Item_ID     Item_W      Item_Type    Item_MRP Outlet_ID  Outlet_Year  \\\n",
      "0       FDU32  21.027499   Baking Goods  197.352319    OUT046         2004   \n",
      "1       NCT54  21.102371           Meat  148.250214    OUT035         1987   \n",
      "2       FDW08  20.882263    Hard Drinks  205.465010    OUT035         1999   \n",
      "3       FDJ22  21.050435  Starchy Foods  253.417583    OUT046         1996   \n",
      "4       FDF47  21.247876   Baking Goods  240.871039    OUT035         1988   \n",
      "...       ...        ...            ...         ...       ...          ...   \n",
      "87859   FDG24   9.994412      Breakfast  147.389893    OUT035         1987   \n",
      "87860   FDA32  11.259252         Canned  127.965666    OUT049         1987   \n",
      "87861   FDM04  11.385812      Household  119.028901    OUT018         1997   \n",
      "87862   NCS18  18.018028      Household  223.416318    OUT018         1988   \n",
      "87863   FDQ11  17.130290    Snack Foods  143.232048    OUT013         1997   \n",
      "\n",
      "      Outlet_Size Outlet_Location_Type        Sales  \n",
      "0           Small               Tier 2  2689.457781  \n",
      "1           Small               Tier 1  3437.350375  \n",
      "2           Small               Tier 3  3129.967268  \n",
      "3           Small               Tier 1  1306.514376  \n",
      "4           Small               Tier 3  1739.769829  \n",
      "...           ...                  ...          ...  \n",
      "87859      Medium               Tier 3  4975.646052  \n",
      "87860      Medium               Tier 2  2252.492755  \n",
      "87861      Medium               Tier 1  2716.058050  \n",
      "87862      Medium               Tier 3   991.857233  \n",
      "87863      Medium               Tier 3  4260.617470  \n",
      "\n",
      "[87466 rows x 9 columns]\n"
     ]
    }
   ],
   "source": [
    "df = df[df.Sales < 10000]\n",
    "print(df)"
   ]
  },
  {
   "cell_type": "markdown",
   "metadata": {},
   "source": [
    "Let us now understand what are the different categories that are in the data and also what are the most frequently occuring items present in the dataset."
   ]
  },
  {
   "cell_type": "code",
   "execution_count": 9,
   "metadata": {},
   "outputs": [
    {
     "data": {
      "text/plain": [
       "FDE11    417\n",
       "NCE07    360\n",
       "NCL18    345\n",
       "NCO06    334\n",
       "FDD51    327\n",
       "        ... \n",
       "FDM15      2\n",
       "FDB20      2\n",
       "DRF60      2\n",
       "NCM19      1\n",
       "FDA22      1\n",
       "Name: Item_ID, Length: 895, dtype: int64"
      ]
     },
     "execution_count": 9,
     "metadata": {},
     "output_type": "execute_result"
    }
   ],
   "source": [
    "df[\"Item_ID\"].value_counts()"
   ]
  },
  {
   "cell_type": "code",
   "execution_count": 10,
   "metadata": {},
   "outputs": [
    {
     "data": {
      "text/plain": [
       "array(['Baking Goods', 'Meat', 'Hard Drinks', 'Starchy Foods', 'Breads',\n",
       "       'Others', 'Seafood', 'Fruits and Vegetables', 'Soft Drinks',\n",
       "       'Household', 'Snack Foods', 'Frozen Foods', 'Health and Hygiene',\n",
       "       'Canned', 'Dairy', 'Breakfast'], dtype=object)"
      ]
     },
     "execution_count": 10,
     "metadata": {},
     "output_type": "execute_result"
    }
   ],
   "source": [
    "df[\"Item_Type\"].unique()"
   ]
  },
  {
   "cell_type": "markdown",
   "metadata": {},
   "source": [
    "Baking goods seem to be the most frequently occuring item in the dataset. Breakfast item seem to be the least occuring item."
   ]
  },
  {
   "cell_type": "code",
   "execution_count": 11,
   "metadata": {},
   "outputs": [
    {
     "data": {
      "text/plain": [
       "Baking Goods             14603\n",
       "Fruits and Vegetables    14245\n",
       "Meat                      8063\n",
       "Snack Foods               7773\n",
       "Household                 5988\n",
       "Soft Drinks               5384\n",
       "Frozen Foods              5114\n",
       "Canned                    4544\n",
       "Dairy                     3781\n",
       "Others                    3674\n",
       "Breads                    3499\n",
       "Hard Drinks               3115\n",
       "Health and Hygiene        2984\n",
       "Starchy Foods             2960\n",
       "Seafood                   1104\n",
       "Breakfast                  635\n",
       "Name: Item_Type, dtype: int64"
      ]
     },
     "execution_count": 11,
     "metadata": {},
     "output_type": "execute_result"
    }
   ],
   "source": [
    "df[\"Item_Type\"].value_counts()"
   ]
  },
  {
   "cell_type": "code",
   "execution_count": 12,
   "metadata": {},
   "outputs": [
    {
     "data": {
      "text/plain": [
       "array(['Tier 2', 'Tier 1', 'Tier 3'], dtype=object)"
      ]
     },
     "execution_count": 12,
     "metadata": {},
     "output_type": "execute_result"
    }
   ],
   "source": [
    "df[\"Outlet_Location_Type\"].unique()"
   ]
  },
  {
   "cell_type": "code",
   "execution_count": 13,
   "metadata": {},
   "outputs": [
    {
     "data": {
      "text/plain": [
       "Tier 1    33436\n",
       "Tier 3    28864\n",
       "Tier 2    25166\n",
       "Name: Outlet_Location_Type, dtype: int64"
      ]
     },
     "execution_count": 13,
     "metadata": {},
     "output_type": "execute_result"
    }
   ],
   "source": [
    "df[\"Outlet_Location_Type\"].value_counts()"
   ]
  },
  {
   "cell_type": "code",
   "execution_count": 14,
   "metadata": {},
   "outputs": [
    {
     "data": {
      "text/plain": [
       "array(['OUT046', 'OUT035', 'OUT049', 'OUT018', 'OUT013'], dtype=object)"
      ]
     },
     "execution_count": 14,
     "metadata": {},
     "output_type": "execute_result"
    }
   ],
   "source": [
    "df[\"Outlet_ID\"].unique()"
   ]
  },
  {
   "cell_type": "code",
   "execution_count": 15,
   "metadata": {},
   "outputs": [
    {
     "data": {
      "text/plain": [
       "OUT035    23988\n",
       "OUT046    20754\n",
       "OUT018    17022\n",
       "OUT049    13304\n",
       "OUT013    12398\n",
       "Name: Outlet_ID, dtype: int64"
      ]
     },
     "execution_count": 15,
     "metadata": {},
     "output_type": "execute_result"
    }
   ],
   "source": [
    "df[\"Outlet_ID\"].value_counts()"
   ]
  },
  {
   "cell_type": "code",
   "execution_count": 16,
   "metadata": {},
   "outputs": [
    {
     "data": {
      "text/plain": [
       "array([1987, 1988, 1996, 1997, 1998, 1999, 2003, 2004, 2005, 2007, 2008,\n",
       "       2009], dtype=int64)"
      ]
     },
     "execution_count": 16,
     "metadata": {},
     "output_type": "execute_result"
    }
   ],
   "source": [
    "df[\"Outlet_Year\"].sort_values().unique()"
   ]
  },
  {
   "cell_type": "code",
   "execution_count": 17,
   "metadata": {},
   "outputs": [
    {
     "data": {
      "text/plain": [
       "array(['Small', 'Medium', 'High'], dtype=object)"
      ]
     },
     "execution_count": 17,
     "metadata": {},
     "output_type": "execute_result"
    }
   ],
   "source": [
    "df[\"Outlet_Size\"].unique()"
   ]
  },
  {
   "cell_type": "code",
   "execution_count": 18,
   "metadata": {},
   "outputs": [
    {
     "data": {
      "text/plain": [
       "Small     48431\n",
       "Medium    26502\n",
       "High      12533\n",
       "Name: Outlet_Size, dtype: int64"
      ]
     },
     "execution_count": 18,
     "metadata": {},
     "output_type": "execute_result"
    }
   ],
   "source": [
    "df[\"Outlet_Size\"].value_counts()"
   ]
  },
  {
   "cell_type": "markdown",
   "metadata": {},
   "source": [
    "## Exploratory Data Analysis\n",
    "\n",
    "EDA or Exploratory Data Analysis is the next step in the pipeline. In this step we understand the dataset in detail graphically. This serves as an important step as we tend to understand the trend in the data, patterns, distributions and any other interesting insights can be found. Effective pre-processing step can generate great results while performing this step."
   ]
  },
  {
   "cell_type": "markdown",
   "metadata": {},
   "source": [
    "We can confirm here that for the \"Item_Type\" column, the leading category is \"Baking Goods\", closely followed by \"Fruits and Vegetables\". Least categories are \"Seafood\" and \"Breakfast\"."
   ]
  },
  {
   "cell_type": "code",
   "execution_count": 19,
   "metadata": {},
   "outputs": [
    {
     "data": {
      "text/plain": [
       "(array([ 0,  1,  2,  3,  4,  5,  6,  7,  8,  9, 10, 11, 12, 13, 14, 15]),\n",
       " <a list of 16 Text major ticklabel objects>)"
      ]
     },
     "execution_count": 19,
     "metadata": {},
     "output_type": "execute_result"
    },
    {
     "data": {
      "image/png": "[encoded data removed]",
      "text/plain": [
       "<Figure size 432x288 with 1 Axes>"
      ]
     },
     "metadata": {
      "needs_background": "light"
     },
     "output_type": "display_data"
    }
   ],
   "source": [
    "sns.countplot(df.Item_Type)\n",
    "plt.xticks(rotation=90)"
   ]
  },
  {
   "cell_type": "markdown",
   "metadata": {},
   "source": [
    "Well this is surprising! Although Breakfast was the least count of category, it has the highest impact on sales, although they were the least categorized item count which we saw in the previous graph, with the least being fruits and vegetables although they were the 2nd most frequently occured item in the dataset. With this we can conclude that the frequent occuring items may not have a direct impact on the sales.\n",
    "\n",
    "This can be due to various reasons such as high availability and variety of breakfast cereals and other breakfast related items in the mart. Whereas for the fruits and vegetables, people usually purchase it from the local vendors compared to marts, thus might see a relatively lower sales compared to other items."
   ]
  },
  {
   "cell_type": "code",
   "execution_count": 20,
   "metadata": {},
   "outputs": [
    {
     "data": {
      "text/plain": [
       "<matplotlib.axes._subplots.AxesSubplot at 0x1f6d7467220>"
      ]
     },
     "execution_count": 20,
     "metadata": {},
     "output_type": "execute_result"
    },
    {
     "data": {
      "image/png": "[encoded data removed]",
      "text/plain": [
       "<Figure size 432x288 with 1 Axes>"
      ]
     },
     "metadata": {
      "needs_background": "light"
     },
     "output_type": "display_data"
    }
   ],
   "source": [
    "sns.barplot(x ='Sales', y ='Item_Type', data = df, palette ='plasma')"
   ]
  },
  {
   "cell_type": "markdown",
   "metadata": {},
   "source": [
    "In this chart, we are trying to see which is the most frequently occuring tier in the dataset. Tiers basically lets us know the type of geographical location the mart is located in. In this case \"Tier 1\" is the most frequently occuring location type. "
   ]
  },
  {
   "cell_type": "code",
   "execution_count": 21,
   "metadata": {},
   "outputs": [
    {
     "data": {
      "text/plain": [
       "(array([0, 1, 2]), <a list of 3 Text major ticklabel objects>)"
      ]
     },
     "execution_count": 21,
     "metadata": {},
     "output_type": "execute_result"
    },
    {
     "data": {
      "image/png": "[encoded data removed]",
      "text/plain": [
       "<Figure size 432x288 with 1 Axes>"
      ]
     },
     "metadata": {
      "needs_background": "light"
     },
     "output_type": "display_data"
    }
   ],
   "source": [
    "sns.countplot(df.Outlet_Location_Type)\n",
    "plt.xticks(rotation=90)"
   ]
  },
  {
   "cell_type": "markdown",
   "metadata": {},
   "source": [
    "In this plot we can see that \"Tier 2\" and \"Tier 1\" have competing sales whereas \"Tier 3\" has a relatively lesser sales. This can be understandable since people generally tend to prefer purchasing items from the marts thus having higher sales. This could also be due to the number of outlets being higher in these locations thus attributing to the increased sales as well."
   ]
  },
  {
   "cell_type": "code",
   "execution_count": 22,
   "metadata": {},
   "outputs": [
    {
     "data": {
      "image/png": "[encoded data removed]",
      "text/plain": [
       "<Figure size 432x288 with 1 Axes>"
      ]
     },
     "metadata": {
      "needs_background": "light"
     },
     "output_type": "display_data"
    }
   ],
   "source": [
    "plt.bar(df[\"Outlet_Location_Type\"],df[\"Sales\"])\n",
    "plt.title('Outlet Location Type VS Sales')\n",
    "plt.xlabel('Outlook Location Type')\n",
    "plt.ylabel('Sale of each item based on Outlet location type')\n",
    "plt.show()"
   ]
  },
  {
   "cell_type": "markdown",
   "metadata": {},
   "source": [
    "In this chart, we are trying to see which is the most frequently occuring outlet size in the dataset. Outlet size allows us to determine the impact on the sales on a finer level. With more variety in items, larger outlets have an advantage of having higher sales compared to the smaller outlets"
   ]
  },
  {
   "cell_type": "code",
   "execution_count": 23,
   "metadata": {},
   "outputs": [
    {
     "data": {
      "text/plain": [
       "(array([0, 1, 2]), <a list of 3 Text major ticklabel objects>)"
      ]
     },
     "execution_count": 23,
     "metadata": {},
     "output_type": "execute_result"
    },
    {
     "data": {
      "image/png": "[encoded data removed]",
      "text/plain": [
       "<Figure size 432x288 with 1 Axes>"
      ]
     },
     "metadata": {
      "needs_background": "light"
     },
     "output_type": "display_data"
    }
   ],
   "source": [
    "sns.countplot(df.Outlet_Size)\n",
    "plt.xticks(rotation=90)"
   ]
  },
  {
   "cell_type": "markdown",
   "metadata": {},
   "source": [
    "In this case we can see that \"smaller\" outlets have larger sales compared to other two outlet sizes. This can be due to the amount of smaller outlets present in the dataset is greater than the other two. Although it is not surprising that the sales of large sized outlets doing better in terms of sales compared to medium sized outlets considering our initial assumption."
   ]
  },
  {
   "cell_type": "code",
   "execution_count": 24,
   "metadata": {},
   "outputs": [
    {
     "data": {
      "image/png": "[encoded data removed]",
      "text/plain": [
       "<Figure size 432x288 with 1 Axes>"
      ]
     },
     "metadata": {
      "needs_background": "light"
     },
     "output_type": "display_data"
    }
   ],
   "source": [
    "plt.bar(df[\"Outlet_Size\"],df[\"Sales\"])\n",
    "plt.title('Outlet Size Type VS Sales')\n",
    "plt.xlabel('Outlet Size Type')\n",
    "plt.ylabel('Sale of item based on Outlet size')\n",
    "plt.show()"
   ]
  },
  {
   "cell_type": "markdown",
   "metadata": {},
   "source": [
    "In this chart, we are trying to see how each outlet ID is doing in terms of sales. As we can see \"Outlet ID 013\" is doing well in terms of sales where as \"Outlet ID 018\" is faring poorly in the same. This can be due to various reasons such as competitions from other marts, its location, ease of vehicle parking, choice of items etc."
   ]
  },
  {
   "cell_type": "code",
   "execution_count": 25,
   "metadata": {},
   "outputs": [
    {
     "data": {
      "image/png": "[encoded data removed]",
      "text/plain": [
       "<Figure size 432x288 with 1 Axes>"
      ]
     },
     "metadata": {
      "needs_background": "light"
     },
     "output_type": "display_data"
    }
   ],
   "source": [
    "Outlet_ID_pivot = df.pivot_table(index='Outlet_ID', values=\"Sales\", aggfunc=np.median)\n",
    "\n",
    "Outlet_ID_pivot.plot(kind='bar', color='blue', fig=(8,8))\n",
    "\n",
    "plt.title('Outlet Identifier VS Sales')\n",
    "plt.xlabel('Outlet ID')\n",
    "plt.ylabel('Sale of item based on Outlet ID')\n",
    "plt.legend(['Sales'], loc='upper right')\n",
    "plt.show()"
   ]
  },
  {
   "cell_type": "markdown",
   "metadata": {},
   "source": [
    "In this we can see that in \"1996\", this mart had a very good sale and the least being in the year \"2005\". We can conclude that the year of establishment does not have any relation with respect to the sales."
   ]
  },
  {
   "cell_type": "code",
   "execution_count": 26,
   "metadata": {},
   "outputs": [
    {
     "data": {
      "image/png": "[encoded data removed]",
      "text/plain": [
       "<Figure size 864x504 with 1 Axes>"
      ]
     },
     "metadata": {
      "needs_background": "light"
     },
     "output_type": "display_data"
    }
   ],
   "source": [
    "Outlet_Establishment_Year_pivot = df.pivot_table(index='Outlet_Year', values=\"Sales\", aggfunc=np.median)\n",
    "\n",
    "Outlet_Establishment_Year_pivot.plot(kind='bar', color='blue',figsize=(12,7))\n",
    "\n",
    "plt.xlabel(\"Outlet_Establishment_Year\")\n",
    "plt.ylabel(\"Sqrt Item_Outlet_Sales\")\n",
    "\n",
    "plt.title(\"Impact of Outlet_Establishment_Year on Item_Outlet_Sales\")\n",
    "plt.xticks(rotation=0)\n",
    "\n",
    "plt.show()"
   ]
  },
  {
   "cell_type": "markdown",
   "metadata": {},
   "source": [
    "In this we can see that most of the sales are skewed to the right and are concentrated around 1000 range. Ideally higher sales is expected for more profit. By identifying the root cause for the lower distribution of sales, right approaches can be undertaken in order to increase the same."
   ]
  },
  {
   "cell_type": "code",
   "execution_count": 27,
   "metadata": {},
   "outputs": [
    {
     "data": {
      "text/plain": [
       "Text(0.5, 1.0, 'Item_Outlet_Sales Distribution')"
      ]
     },
     "execution_count": 27,
     "metadata": {},
     "output_type": "execute_result"
    },
    {
     "data": {
      "image/png": "[encoded data removed]",
      "text/plain": [
       "<Figure size 864x504 with 1 Axes>"
      ]
     },
     "metadata": {},
     "output_type": "display_data"
    }
   ],
   "source": [
    "plt.style.use('fivethirtyeight')\n",
    "plt.figure(figsize=(12,7))\n",
    "sns.distplot(df.Sales, bins = 25)\n",
    "plt.ticklabel_format(style='plain', axis='x', scilimits=(0,1))\n",
    "plt.xlabel(\"Item_Outlet_Sales\")\n",
    "plt.ylabel(\"Number of Sales\")\n",
    "plt.title(\"Item_Outlet_Sales Distribution\")"
   ]
  },
  {
   "cell_type": "markdown",
   "metadata": {},
   "source": [
    "## What is Skew and Kurtosis?\n",
    "\n",
    "Skewness: It determines whether the majority of data points are present on one side of the distribution. A positive value represents right skewed distribution, negative value represents left skewed and zero represents unskewed data. Since we have received a positive value we can confirm along with our graph that in our problem statement, the sales column is indeed skewed to the right.\n",
    "\n",
    "Kurtosis: It indicates how much of data is concentrated around mean or shape of the probability distribution. If the value of Kurtosis is greater than 1 or lesser than 1 then the data is said to be highly skewed. This seems to be the case for our dataset as well."
   ]
  },
  {
   "cell_type": "code",
   "execution_count": 28,
   "metadata": {},
   "outputs": [
    {
     "name": "stdout",
     "output_type": "stream",
     "text": [
      "Skew is: 1.1357741465689362\n",
      "Kurtosis: 1.308049\n"
     ]
    }
   ],
   "source": [
    "print (\"Skew is:\", df.Sales.skew())\n",
    "print(\"Kurtosis: %f\" % df.Sales.kurt())"
   ]
  },
  {
   "cell_type": "markdown",
   "metadata": {},
   "source": [
    "Let us now combine the items based on the unique IDs assigned to them. Items are categorized into three groups:\n",
    "\n",
    "(1) FD - Food\n",
    "\n",
    "(2) NC - Non-Consumables\n",
    "\n",
    "(3) DR - Drinks\n",
    "\n",
    "By doing this we can analyze how the the mart is faring with respect to the item categories present."
   ]
  },
  {
   "cell_type": "code",
   "execution_count": 29,
   "metadata": {},
   "outputs": [
    {
     "name": "stderr",
     "output_type": "stream",
     "text": [
      "<ipython-input-29-acd9f72e2412>:1: SettingWithCopyWarning: \n",
      "A value is trying to be set on a copy of a slice from a DataFrame.\n",
      "Try using .loc[row_indexer,col_indexer] = value instead\n",
      "\n",
      "See the caveats in the documentation: https://pandas.pydata.org/pandas-docs/stable/user_guide/indexing.html#returning-a-view-versus-a-copy\n",
      "  df['Items_Combined'] = df['Item_ID'].apply(lambda x: x[0:2])\n",
      "<ipython-input-29-acd9f72e2412>:3: SettingWithCopyWarning: \n",
      "A value is trying to be set on a copy of a slice from a DataFrame.\n",
      "Try using .loc[row_indexer,col_indexer] = value instead\n",
      "\n",
      "See the caveats in the documentation: https://pandas.pydata.org/pandas-docs/stable/user_guide/indexing.html#returning-a-view-versus-a-copy\n",
      "  df['Items_Combined'] = df['Items_Combined'].map({'FD':'Food', 'NC':'Non-Consumables', 'DR':'Drinks'})\n"
     ]
    },
    {
     "data": {
      "text/plain": [
       "Food               63337\n",
       "Non-Consumables    16586\n",
       "Drinks              7543\n",
       "Name: Items_Combined, dtype: int64"
      ]
     },
     "execution_count": 29,
     "metadata": {},
     "output_type": "execute_result"
    }
   ],
   "source": [
    "df['Items_Combined'] = df['Item_ID'].apply(lambda x: x[0:2])\n",
    "\n",
    "df['Items_Combined'] = df['Items_Combined'].map({'FD':'Food', 'NC':'Non-Consumables', 'DR':'Drinks'})\n",
    "df['Items_Combined'].value_counts()"
   ]
  },
  {
   "cell_type": "markdown",
   "metadata": {},
   "source": [
    "We can see that \"Food\" and \"Non-Consumables\" are doing well, whereas \"Drinks\" category seems to be down on sales. This can be understandable since people purchase food items on regular basis and other non-consumable items for everyday needs. Whereas Drinks such as milk is usually purchased in the nearby milk booth or other smaller shops and soft drinks are generally purchased for special occasions or during the summer. Thus this can attribute to the lower sales in this category."
   ]
  },
  {
   "cell_type": "code",
   "execution_count": 30,
   "metadata": {},
   "outputs": [
    {
     "data": {
      "image/png": "[encoded data removed]",
      "text/plain": [
       "<Figure size 432x288 with 1 Axes>"
      ]
     },
     "metadata": {},
     "output_type": "display_data"
    }
   ],
   "source": [
    "plt.bar(df[\"Items_Combined\"],df[\"Sales\"])\n",
    "plt.title('Type of items VS Sales')\n",
    "plt.xlabel('Type of items')\n",
    "plt.ylabel('Sale based on item type')\n",
    "plt.show()"
   ]
  },
  {
   "cell_type": "markdown",
   "metadata": {},
   "source": [
    "## Conclusion\n",
    "\n",
    "From this simple preliminary analysis we saw how various factors such as \"Outlet Location type\" and \"Outlet Location Size\" have more direct impact on sales compared to other features in the dataset. By having more features we can find the insights on a more granular level, and based on the analysis, actionable steps can be recommended to increase the sales, thus increasing the profits."
   ]
  }
 ],
 "metadata": {
  "kernelspec": {
   "display_name": "Python 3",
   "language": "python",
   "name": "python3"
  },
  "language_info": {
   "codemirror_mode": {
    "name": "ipython",
    "version": 3
   },
   "file_extension": ".py",
   "mimetype": "text/x-python",
   "name": "python",
   "nbconvert_exporter": "python",
   "pygments_lexer": "ipython3",
   "version": "3.8.3"
  }
 },
 "nbformat": 4,
 "nbformat_minor": 4
}
